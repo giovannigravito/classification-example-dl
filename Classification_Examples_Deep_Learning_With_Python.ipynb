{
  "cells": [
    {
      "cell_type": "markdown",
      "source": [
        "<div align = 'center'>\n",
        "\n",
        "## Introduction\n",
        "\n",
        "</div>\n",
        "\n",
        "Classification examples using Deep Learning from François Chollet - Deep Learning With Python [book](https://www.amazon.com.br/Deep-Learning-Python-Francois-Chollet/dp/1617294438/ref=asc_df_1617294438/?tag=googleshopp00-20&linkCode=df0&hvadid=379735814613&hvpos=&hvnetw=g&hvrand=12016580876863644968&hvpone=&hvptwo=&hvqmt=&hvdev=c&hvdvcmdl=&hvlocint=&hvlocphy=1001773&hvtargid=pla-356949152624&psc=1).\n",
        "\n",
        "Two classification tasks are assigned here:\n",
        "\n",
        "- Single-label binary classification - One output classification between positive or negative on movies reviews from imdb dataset.\n",
        "\n",
        "- Single-label multiclass classification - One output classification between 46 classes from Reuters newswire dataset."
      ],
      "metadata": {
        "id": "miOAIZ-jUSJf"
      },
      "id": "miOAIZ-jUSJf"
    },
    {
      "cell_type": "code",
      "execution_count": 1,
      "id": "0e436f7f",
      "metadata": {
        "id": "0e436f7f"
      },
      "outputs": [],
      "source": [
        "# Suppressing warnings outputs\n",
        "import warnings\n",
        "warnings.filterwarnings('ignore')"
      ]
    },
    {
      "cell_type": "markdown",
      "source": [
        "<div align='center'>\n",
        "\n",
        "## Single-label binary classification\n",
        "\n",
        "</div>"
      ],
      "metadata": {
        "id": "H6Us-CKewX0r"
      },
      "id": "H6Us-CKewX0r"
    },
    {
      "cell_type": "code",
      "execution_count": 2,
      "id": "db538be9",
      "metadata": {
        "colab": {
          "base_uri": "https://localhost:8080/"
        },
        "id": "db538be9",
        "outputId": "6038b26c-14bc-4df3-e372-5adbd6be8ef7"
      },
      "outputs": [
        {
          "output_type": "stream",
          "name": "stdout",
          "text": [
            "Downloading data from https://storage.googleapis.com/tensorflow/tf-keras-datasets/imdb.npz\n",
            "17465344/17464789 [==============================] - 0s 0us/step\n",
            "17473536/17464789 [==============================] - 0s 0us/step\n"
          ]
        }
      ],
      "source": [
        "from keras.datasets import imdb\n",
        "\n",
        "(train_data, train_labels), (test_data, test_labels) = imdb.load_data(\n",
        "num_words=10000)"
      ]
    },
    {
      "cell_type": "markdown",
      "id": "98385b2f",
      "metadata": {
        "id": "98385b2f"
      },
      "source": [
        "The argument `num_words=10000` means you’ll only keep the top 10,000 most frequently occurring words in the training data. Rare words will be discarded. This allows you to work with vector data of manageable size."
      ]
    },
    {
      "cell_type": "code",
      "execution_count": 3,
      "id": "b7ac06fe",
      "metadata": {
        "colab": {
          "base_uri": "https://localhost:8080/"
        },
        "id": "b7ac06fe",
        "outputId": "3cc546a3-ff70-420c-ba2c-e3bc8d4a17ea"
      },
      "outputs": [
        {
          "output_type": "execute_result",
          "data": {
            "text/plain": [
              "(25000,)"
            ]
          },
          "metadata": {},
          "execution_count": 3
        }
      ],
      "source": [
        "train_data.shape #1D-array"
      ]
    },
    {
      "cell_type": "code",
      "execution_count": 4,
      "id": "d4bf5cdc",
      "metadata": {
        "colab": {
          "base_uri": "https://localhost:8080/"
        },
        "id": "d4bf5cdc",
        "outputId": "c187fae7-62be-4b34-9a17-e7d6d8254a39"
      },
      "outputs": [
        {
          "output_type": "execute_result",
          "data": {
            "text/plain": [
              "(25000,)"
            ]
          },
          "metadata": {},
          "execution_count": 4
        }
      ],
      "source": [
        "train_labels.shape # 1D-array"
      ]
    },
    {
      "cell_type": "code",
      "execution_count": 5,
      "id": "c4810991",
      "metadata": {
        "scrolled": true,
        "colab": {
          "base_uri": "https://localhost:8080/"
        },
        "id": "c4810991",
        "outputId": "50feba0e-690b-479d-d0bb-01b2a7600982"
      },
      "outputs": [
        {
          "output_type": "execute_result",
          "data": {
            "text/plain": [
              "array([list([1, 14, 22, 16, 43, 530, 973, 1622, 1385, 65, 458, 4468, 66, 3941, 4, 173, 36, 256, 5, 25, 100, 43, 838, 112, 50, 670, 2, 9, 35, 480, 284, 5, 150, 4, 172, 112, 167, 2, 336, 385, 39, 4, 172, 4536, 1111, 17, 546, 38, 13, 447, 4, 192, 50, 16, 6, 147, 2025, 19, 14, 22, 4, 1920, 4613, 469, 4, 22, 71, 87, 12, 16, 43, 530, 38, 76, 15, 13, 1247, 4, 22, 17, 515, 17, 12, 16, 626, 18, 2, 5, 62, 386, 12, 8, 316, 8, 106, 5, 4, 2223, 5244, 16, 480, 66, 3785, 33, 4, 130, 12, 16, 38, 619, 5, 25, 124, 51, 36, 135, 48, 25, 1415, 33, 6, 22, 12, 215, 28, 77, 52, 5, 14, 407, 16, 82, 2, 8, 4, 107, 117, 5952, 15, 256, 4, 2, 7, 3766, 5, 723, 36, 71, 43, 530, 476, 26, 400, 317, 46, 7, 4, 2, 1029, 13, 104, 88, 4, 381, 15, 297, 98, 32, 2071, 56, 26, 141, 6, 194, 7486, 18, 4, 226, 22, 21, 134, 476, 26, 480, 5, 144, 30, 5535, 18, 51, 36, 28, 224, 92, 25, 104, 4, 226, 65, 16, 38, 1334, 88, 12, 16, 283, 5, 16, 4472, 113, 103, 32, 15, 16, 5345, 19, 178, 32]),\n",
              "       list([1, 194, 1153, 194, 8255, 78, 228, 5, 6, 1463, 4369, 5012, 134, 26, 4, 715, 8, 118, 1634, 14, 394, 20, 13, 119, 954, 189, 102, 5, 207, 110, 3103, 21, 14, 69, 188, 8, 30, 23, 7, 4, 249, 126, 93, 4, 114, 9, 2300, 1523, 5, 647, 4, 116, 9, 35, 8163, 4, 229, 9, 340, 1322, 4, 118, 9, 4, 130, 4901, 19, 4, 1002, 5, 89, 29, 952, 46, 37, 4, 455, 9, 45, 43, 38, 1543, 1905, 398, 4, 1649, 26, 6853, 5, 163, 11, 3215, 2, 4, 1153, 9, 194, 775, 7, 8255, 2, 349, 2637, 148, 605, 2, 8003, 15, 123, 125, 68, 2, 6853, 15, 349, 165, 4362, 98, 5, 4, 228, 9, 43, 2, 1157, 15, 299, 120, 5, 120, 174, 11, 220, 175, 136, 50, 9, 4373, 228, 8255, 5, 2, 656, 245, 2350, 5, 4, 9837, 131, 152, 491, 18, 2, 32, 7464, 1212, 14, 9, 6, 371, 78, 22, 625, 64, 1382, 9, 8, 168, 145, 23, 4, 1690, 15, 16, 4, 1355, 5, 28, 6, 52, 154, 462, 33, 89, 78, 285, 16, 145, 95])],\n",
              "      dtype=object)"
            ]
          },
          "metadata": {},
          "execution_count": 5
        }
      ],
      "source": [
        "train_data[:2]"
      ]
    },
    {
      "cell_type": "markdown",
      "id": "fd0845e2",
      "metadata": {
        "id": "fd0845e2"
      },
      "source": [
        "`train_data` and `test_data` are lists of reviews; each review is a list of word indices (encoding a sequence of words). "
      ]
    },
    {
      "cell_type": "code",
      "execution_count": 6,
      "id": "ad0db072",
      "metadata": {
        "colab": {
          "base_uri": "https://localhost:8080/"
        },
        "id": "ad0db072",
        "outputId": "7fa1317d-62fe-462a-ad15-6c104b7e719e"
      },
      "outputs": [
        {
          "output_type": "execute_result",
          "data": {
            "text/plain": [
              "array([1, 0])"
            ]
          },
          "metadata": {},
          "execution_count": 6
        }
      ],
      "source": [
        "train_labels[:2]"
      ]
    },
    {
      "cell_type": "markdown",
      "id": "e19610d0",
      "metadata": {
        "id": "e19610d0"
      },
      "source": [
        "`train_labels` and `test_labels` are lists of 0s and 1s, where 0 stands for negative and 1 stands for positive:"
      ]
    },
    {
      "cell_type": "markdown",
      "id": "32974a9f",
      "metadata": {
        "id": "32974a9f"
      },
      "source": [
        "#### Encoding the integer sequence into a binary matrix"
      ]
    },
    {
      "cell_type": "code",
      "execution_count": 7,
      "id": "a763bf15",
      "metadata": {
        "id": "a763bf15"
      },
      "outputs": [],
      "source": [
        "import numpy as np\n",
        "\n",
        "def vectorize_sequences(sequences, dimensions = 10000):\n",
        "    results = np.zeros((len(sequences), dimensions)) # Creates an all-zero matrix of shape (len(sequences), dimension)\n",
        "    for i, sequence in enumerate(sequences):\n",
        "        results[i, sequence] = 1. # Sets specific indices of results[i] to 1s\n",
        "    return results\n",
        "\n",
        "x_train = vectorize_sequences(train_data) # Vectorized training data\n",
        "x_test = vectorize_sequences(test_data) # Vectorized test data"
      ]
    },
    {
      "cell_type": "code",
      "execution_count": 8,
      "id": "61e1321a",
      "metadata": {
        "scrolled": true,
        "colab": {
          "base_uri": "https://localhost:8080/"
        },
        "id": "61e1321a",
        "outputId": "41829cb5-01f2-43c2-d13b-2de19e0f1b69"
      },
      "outputs": [
        {
          "output_type": "execute_result",
          "data": {
            "text/plain": [
              "(25000, 10000)"
            ]
          },
          "metadata": {},
          "execution_count": 8
        }
      ],
      "source": [
        "x_train.shape"
      ]
    },
    {
      "cell_type": "code",
      "execution_count": 9,
      "id": "67519605",
      "metadata": {
        "colab": {
          "base_uri": "https://localhost:8080/"
        },
        "id": "67519605",
        "outputId": "e0401694-40d7-4065-e8eb-890e7fc8978f"
      },
      "outputs": [
        {
          "output_type": "execute_result",
          "data": {
            "text/plain": [
              "(25000, 10000)"
            ]
          },
          "metadata": {},
          "execution_count": 9
        }
      ],
      "source": [
        "x_test.shape"
      ]
    },
    {
      "cell_type": "code",
      "execution_count": 10,
      "id": "2dc67699",
      "metadata": {
        "colab": {
          "base_uri": "https://localhost:8080/"
        },
        "id": "2dc67699",
        "outputId": "01aaf849-2bce-4fb0-ca13-9223782b340d"
      },
      "outputs": [
        {
          "output_type": "stream",
          "name": "stdout",
          "text": [
            "Head of x_train: [[0. 1. 1. ... 0. 0. 0.]\n",
            " [0. 1. 1. ... 0. 0. 0.]\n",
            " [0. 1. 1. ... 0. 0. 0.]\n",
            " [0. 1. 1. ... 0. 0. 0.]\n",
            " [0. 1. 1. ... 0. 0. 0.]]; \n",
            " Head of x_test: [[0. 1. 1. ... 0. 0. 0.]\n",
            " [0. 1. 1. ... 0. 0. 0.]\n",
            " [0. 1. 1. ... 0. 0. 0.]\n",
            " [0. 1. 1. ... 0. 0. 0.]\n",
            " [0. 1. 1. ... 0. 0. 0.]]\n"
          ]
        }
      ],
      "source": [
        "print(\"Head of x_train: {}; \\n Head of x_test: {}\".format(x_train[:5], x_test[:5]))"
      ]
    },
    {
      "cell_type": "markdown",
      "id": "339bc0a7",
      "metadata": {
        "id": "339bc0a7"
      },
      "source": [
        "#### Vectorizing labels"
      ]
    },
    {
      "cell_type": "code",
      "execution_count": 11,
      "id": "2b2ea89c",
      "metadata": {
        "id": "2b2ea89c"
      },
      "outputs": [],
      "source": [
        "y_train = np.asarray(train_labels).astype('float32')\n",
        "y_test = np.asarray(test_labels).astype('float32')"
      ]
    },
    {
      "cell_type": "code",
      "execution_count": 12,
      "id": "c4e11b06",
      "metadata": {
        "colab": {
          "base_uri": "https://localhost:8080/"
        },
        "id": "c4e11b06",
        "outputId": "b0de2a0b-eb3a-4ffd-9ade-d3fb0bbd8a81"
      },
      "outputs": [
        {
          "output_type": "stream",
          "name": "stdout",
          "text": [
            "first 2-values of y_train [1. 0.]; fist 2-values of y_test [0. 1.]\n"
          ]
        }
      ],
      "source": [
        "print('first 2-values of y_train {}; fist 2-values of y_test {}'.format(y_train[:2], y_test[:2]))"
      ]
    },
    {
      "cell_type": "markdown",
      "id": "4f29d038",
      "metadata": {
        "id": "4f29d038"
      },
      "source": [
        "#### Building network"
      ]
    },
    {
      "cell_type": "code",
      "execution_count": 13,
      "id": "ee739ab2",
      "metadata": {
        "collapsed": true,
        "jupyter": {
          "outputs_hidden": true
        },
        "tags": [],
        "id": "ee739ab2"
      },
      "outputs": [],
      "source": [
        "from keras import models\n",
        "from keras import layers\n",
        "\n",
        "model = models.Sequential()\n",
        "model.add(layers.Dense(16, activation = 'relu', input_shape = (10000,)))\n",
        "model.add(layers.Dense(16, activation = 'relu'))\n",
        "model.add(layers.Dense(1, activation = 'sigmoid'))\n",
        "\n",
        "model.compile(optimizer = 'rmsprop',\n",
        "\t\t\t  loss ='binary_crossentropy',\n",
        "\t\t\t  metrics = ['accuracy']) "
      ]
    },
    {
      "cell_type": "code",
      "execution_count": 14,
      "id": "0d668efb",
      "metadata": {
        "jupyter": {
          "source_hidden": true
        },
        "tags": [],
        "id": "0d668efb"
      },
      "outputs": [],
      "source": [
        "x_valid = x_train[:10000] # set for validation\n",
        "y_valid = y_train[:10000] # labels for validation\n",
        "\n",
        "partial_x_train = x_train[10000:] # set for training\n",
        "partial_y_train = y_train[10000:] # label for training"
      ]
    },
    {
      "cell_type": "code",
      "execution_count": 15,
      "id": "27032926",
      "metadata": {
        "colab": {
          "base_uri": "https://localhost:8080/"
        },
        "id": "27032926",
        "outputId": "c84bfc87-c54a-40cf-ff96-1f86a2d7241a"
      },
      "outputs": [
        {
          "output_type": "stream",
          "name": "stdout",
          "text": [
            "Epoch 1/20\n",
            "30/30 [==============================] - 3s 53ms/step - loss: 0.5397 - accuracy: 0.7757 - val_loss: 0.4214 - val_accuracy: 0.8602\n",
            "Epoch 2/20\n",
            "30/30 [==============================] - 1s 38ms/step - loss: 0.3328 - accuracy: 0.9010 - val_loss: 0.3473 - val_accuracy: 0.8657\n",
            "Epoch 3/20\n",
            "30/30 [==============================] - 1s 38ms/step - loss: 0.2423 - accuracy: 0.9250 - val_loss: 0.3003 - val_accuracy: 0.8824\n",
            "Epoch 4/20\n",
            "30/30 [==============================] - 1s 44ms/step - loss: 0.1916 - accuracy: 0.9398 - val_loss: 0.2809 - val_accuracy: 0.8891\n",
            "Epoch 5/20\n",
            "30/30 [==============================] - 1s 40ms/step - loss: 0.1577 - accuracy: 0.9511 - val_loss: 0.2916 - val_accuracy: 0.8846\n",
            "Epoch 6/20\n",
            "30/30 [==============================] - 1s 40ms/step - loss: 0.1279 - accuracy: 0.9615 - val_loss: 0.2849 - val_accuracy: 0.8872\n",
            "Epoch 7/20\n",
            "30/30 [==============================] - 1s 42ms/step - loss: 0.1062 - accuracy: 0.9709 - val_loss: 0.3074 - val_accuracy: 0.8834\n",
            "Epoch 8/20\n",
            "30/30 [==============================] - 1s 42ms/step - loss: 0.0903 - accuracy: 0.9758 - val_loss: 0.3177 - val_accuracy: 0.8840\n",
            "Epoch 9/20\n",
            "30/30 [==============================] - 1s 43ms/step - loss: 0.0732 - accuracy: 0.9819 - val_loss: 0.3391 - val_accuracy: 0.8806\n",
            "Epoch 10/20\n",
            "30/30 [==============================] - 1s 42ms/step - loss: 0.0597 - accuracy: 0.9871 - val_loss: 0.3617 - val_accuracy: 0.8797\n",
            "Epoch 11/20\n",
            "30/30 [==============================] - 1s 42ms/step - loss: 0.0470 - accuracy: 0.9901 - val_loss: 0.3839 - val_accuracy: 0.8791\n",
            "Epoch 12/20\n",
            "30/30 [==============================] - 1s 43ms/step - loss: 0.0397 - accuracy: 0.9916 - val_loss: 0.4080 - val_accuracy: 0.8777\n",
            "Epoch 13/20\n",
            "30/30 [==============================] - 1s 45ms/step - loss: 0.0332 - accuracy: 0.9933 - val_loss: 0.4431 - val_accuracy: 0.8746\n",
            "Epoch 14/20\n",
            "30/30 [==============================] - 1s 40ms/step - loss: 0.0260 - accuracy: 0.9943 - val_loss: 0.4885 - val_accuracy: 0.8700\n",
            "Epoch 15/20\n",
            "30/30 [==============================] - 1s 39ms/step - loss: 0.0161 - accuracy: 0.9983 - val_loss: 0.5345 - val_accuracy: 0.8663\n",
            "Epoch 16/20\n",
            "30/30 [==============================] - 1s 40ms/step - loss: 0.0161 - accuracy: 0.9977 - val_loss: 0.5319 - val_accuracy: 0.8700\n",
            "Epoch 17/20\n",
            "30/30 [==============================] - 1s 41ms/step - loss: 0.0111 - accuracy: 0.9988 - val_loss: 0.5626 - val_accuracy: 0.8714\n",
            "Epoch 18/20\n",
            "30/30 [==============================] - 1s 42ms/step - loss: 0.0108 - accuracy: 0.9984 - val_loss: 0.5932 - val_accuracy: 0.8696\n",
            "Epoch 19/20\n",
            "30/30 [==============================] - 1s 42ms/step - loss: 0.0051 - accuracy: 0.9997 - val_loss: 0.6323 - val_accuracy: 0.8677\n",
            "Epoch 20/20\n",
            "30/30 [==============================] - 1s 41ms/step - loss: 0.0072 - accuracy: 0.9987 - val_loss: 0.6606 - val_accuracy: 0.8672\n"
          ]
        }
      ],
      "source": [
        "history = model.fit(partial_x_train,\n",
        "\t\t\t\t\tpartial_y_train,\n",
        "\t\t\t\t\tepochs = 20,\n",
        "\t\t\t\t\tbatch_size = 512,\n",
        "\t\t\t\t\tvalidation_data = (x_valid, y_valid))"
      ]
    },
    {
      "cell_type": "code",
      "execution_count": 16,
      "id": "9575f062",
      "metadata": {
        "colab": {
          "base_uri": "https://localhost:8080/"
        },
        "id": "9575f062",
        "outputId": "dfc9013d-631a-4429-8596-c9955c00352a"
      },
      "outputs": [
        {
          "output_type": "execute_result",
          "data": {
            "text/plain": [
              "dict_keys(['loss', 'accuracy', 'val_loss', 'val_accuracy'])"
            ]
          },
          "metadata": {},
          "execution_count": 16
        }
      ],
      "source": [
        "history_dict = history.history\n",
        "history_dict.keys()"
      ]
    },
    {
      "cell_type": "code",
      "execution_count": 17,
      "id": "3383999b",
      "metadata": {
        "id": "3383999b"
      },
      "outputs": [],
      "source": [
        "loss_values = history_dict['loss']\n",
        "acc_values = history_dict['accuracy']\n",
        "val_loss_values = history_dict['val_loss']\n",
        "val_accuracy_values = history_dict['val_accuracy']"
      ]
    },
    {
      "cell_type": "code",
      "execution_count": 18,
      "id": "c5c45a6b",
      "metadata": {
        "scrolled": true,
        "colab": {
          "base_uri": "https://localhost:8080/",
          "height": 295
        },
        "id": "c5c45a6b",
        "outputId": "0cacfdaf-843c-4ff2-bd5a-8268238ae7e9"
      },
      "outputs": [
        {
          "output_type": "display_data",
          "data": {
            "text/plain": [
              "<Figure size 432x288 with 1 Axes>"
            ],
            "image/png": "[encoded data removed]"
          },
          "metadata": {
            "needs_background": "light"
          }
        }
      ],
      "source": [
        "import matplotlib.pyplot as plt\n",
        "\n",
        "epochs = range(1, len(history_dict['accuracy']) + 1)\n",
        "\n",
        "plt.plot(epochs, loss_values, 'bo', label = 'Training loss') # 'bo' stands for 'blue dot'\n",
        "plt.plot(epochs, val_loss_values, 'b', label = 'Validation loss') # 'b' stands for 'solid blue line'\n",
        "plt.title('Training and validation loss')\n",
        "plt.xlabel('Epochs')\n",
        "plt.ylabel('Loss')\n",
        "plt.legend()\n",
        "\n",
        "plt.show()"
      ]
    },
    {
      "cell_type": "code",
      "execution_count": 19,
      "id": "50a49739",
      "metadata": {
        "colab": {
          "base_uri": "https://localhost:8080/",
          "height": 295
        },
        "id": "50a49739",
        "outputId": "352c1be4-dbb1-499a-f738-29c8b83de2fe"
      },
      "outputs": [
        {
          "output_type": "display_data",
          "data": {
            "text/plain": [
              "<Figure size 432x288 with 1 Axes>"
            ],
            "image/png": "[encoded data removed]"
          },
          "metadata": {
            "needs_background": "light"
          }
        }
      ],
      "source": [
        "plt.clf() # clf == 'C''L'ears the 'F'igure\n",
        "\n",
        "plt.plot(epochs, acc_values, 'bo', label = 'Training accuracy')\n",
        "plt.plot(epochs, val_accuracy_values, 'b', label = 'Validation Accuracy')\n",
        "plt.title('Training and validation accuracy')\n",
        "plt.xlabel('Epochs')\n",
        "plt.ylabel('Accuracy')\n",
        "plt.legend()\n",
        "\n",
        "plt.show()"
      ]
    },
    {
      "cell_type": "markdown",
      "id": "272fe283",
      "metadata": {
        "id": "272fe283"
      },
      "source": [
        "After 4th epoch, the `validation loss` started to increase and `validation accuracy` started to decrease. On the other hand, `training loss` started to decrease and `training accuracy` started to increase. In fact, the model fit well to training data, leading to what is called an overfitting.\n",
        "\n",
        "Let's create a new model from scratch with 4 epochs to evalute before overfitting."
      ]
    },
    {
      "cell_type": "code",
      "execution_count": 20,
      "id": "8e92533b",
      "metadata": {
        "colab": {
          "base_uri": "https://localhost:8080/"
        },
        "id": "8e92533b",
        "outputId": "5937ea73-a212-4eec-85cb-9053f4488aa6"
      },
      "outputs": [
        {
          "output_type": "execute_result",
          "data": {
            "text/plain": [
              "(25000, 10000)"
            ]
          },
          "metadata": {},
          "execution_count": 20
        }
      ],
      "source": [
        "x_test.shape"
      ]
    },
    {
      "cell_type": "code",
      "execution_count": 21,
      "id": "1fa2deae",
      "metadata": {
        "colab": {
          "base_uri": "https://localhost:8080/"
        },
        "id": "1fa2deae",
        "outputId": "dbdd6914-f51b-4888-82b1-4dd7e0f2540b"
      },
      "outputs": [
        {
          "output_type": "stream",
          "name": "stdout",
          "text": [
            "Epoch 1/4\n",
            "49/49 [==============================] - 2s 32ms/step - loss: 0.4394 - accuracy: 0.8264\n",
            "Epoch 2/4\n",
            "49/49 [==============================] - 2s 32ms/step - loss: 0.2540 - accuracy: 0.9113\n",
            "Epoch 3/4\n",
            "49/49 [==============================] - 2s 31ms/step - loss: 0.1985 - accuracy: 0.9307\n",
            "Epoch 4/4\n",
            "49/49 [==============================] - 1s 31ms/step - loss: 0.1663 - accuracy: 0.9427\n"
          ]
        },
        {
          "output_type": "execute_result",
          "data": {
            "text/plain": [
              "<keras.callbacks.History at 0x7f0c2d5a4fd0>"
            ]
          },
          "metadata": {},
          "execution_count": 21
        }
      ],
      "source": [
        "model = models.Sequential()\n",
        "model.add(layers.Dense(units = 16, activation = 'relu', input_shape = (10000,) )) # 10,000 == 10,000 attributes from x_test\n",
        "model.add(layers.Dense(units = 16, activation = 'relu'))\n",
        "model.add(layers.Dense(units = 1, activation = 'sigmoid')) # output layer\n",
        "\n",
        "# loss, optimizer, metrics\n",
        "model.compile(optimizer = 'rmsprop',\n",
        "              loss = 'binary_crossentropy',\n",
        "              metrics = ['accuracy'])\n",
        "\n",
        "# fitting data\n",
        "model.fit(x_train, y_train, epochs = 4, batch_size = 512)"
      ]
    },
    {
      "cell_type": "code",
      "source": [
        "# evaluating\n",
        "results = model.evaluate(x_test, y_test)\n",
        "\n",
        "print('Results: {}'.format(results))"
      ],
      "metadata": {
        "colab": {
          "base_uri": "https://localhost:8080/"
        },
        "id": "i1AKIgpNmSk1",
        "outputId": "668269bd-8e84-4c0b-eeca-eeb69d9aff89"
      },
      "id": "i1AKIgpNmSk1",
      "execution_count": 22,
      "outputs": [
        {
          "output_type": "stream",
          "name": "stdout",
          "text": [
            "782/782 [==============================] - 2s 3ms/step - loss: 0.3187 - accuracy: 0.8743\n",
            "Results: [0.31867995858192444, 0.8743199706077576]\n"
          ]
        }
      ]
    },
    {
      "cell_type": "markdown",
      "source": [
        "#### Using a trained model to predict new data"
      ],
      "metadata": {
        "id": "UdCprCwmsW_j"
      },
      "id": "UdCprCwmsW_j"
    },
    {
      "cell_type": "code",
      "source": [
        "model.predict(x_test, verbose = 1)\n",
        "\n",
        "# Result is an array of reviews' probability being positive"
      ],
      "metadata": {
        "colab": {
          "base_uri": "https://localhost:8080/"
        },
        "id": "xc3HYEtetKzb",
        "outputId": "1a8cc021-b7de-4262-815f-355bf79b15cb"
      },
      "id": "xc3HYEtetKzb",
      "execution_count": 24,
      "outputs": [
        {
          "output_type": "stream",
          "name": "stdout",
          "text": [
            "782/782 [==============================] - 2s 2ms/step\n"
          ]
        },
        {
          "output_type": "execute_result",
          "data": {
            "text/plain": [
              "array([[0.14792481],\n",
              "       [0.99984694],\n",
              "       [0.7334161 ],\n",
              "       ...,\n",
              "       [0.08617541],\n",
              "       [0.04506937],\n",
              "       [0.5132157 ]], dtype=float32)"
            ]
          },
          "metadata": {},
          "execution_count": 24
        }
      ]
    },
    {
      "cell_type": "markdown",
      "source": [
        "#### Wrapping up \n",
        "\n",
        "* You usually need to do quite a bit of preprocessing on your raw data in order to be able to feed it as tensors into a neural network. \n",
        "\n",
        "* Sequences of words can be encoded as binary vectors, but there are other encoding options, too.\n",
        "\n",
        "* Stacks of Dense layers with `relu` activations can solve a wide range of problems (including sentiment classification), and you’ll likely use them frequently.\n",
        "\n",
        "* In a binary classification problem (two output classes), your network should end with a Dense layer with one unit and a `sigmoid` activation: the output of your network should be a scalar between 0 and 1, encoding a probability.\n",
        "\n",
        "* With such a scalar `sigmoid` output on a binary classification problem, the loss function you should use is `binary_crossentropy`.\n",
        "\n",
        "* The `rmsprop` optimizer is generally a good enough choice, whatever your problem. That’s one less thing for you to worry about.\n",
        "\n",
        "* As they get better on their training data, neural networks eventually start overfitting and end up obtaining increasingly worse results on data they’ve never seen before. Be sure to always monitor performance on data that is outside of the training set."
      ],
      "metadata": {
        "id": "MiHR62l-uSEG"
      },
      "id": "MiHR62l-uSEG"
    },
    {
      "cell_type": "markdown",
      "source": [
        "<div align = 'center'>\n",
        "\n",
        "## Single-label multiclass classification\n",
        "\n",
        "</div>"
      ],
      "metadata": {
        "id": "VtfXKmPjv9ew"
      },
      "id": "VtfXKmPjv9ew"
    },
    {
      "cell_type": "code",
      "source": [
        "from keras.datasets import reuters\n",
        "\n",
        "(train_data, train_labels), (test_data, test_labels) = reuters.load_data(num_words = 10000)"
      ],
      "metadata": {
        "colab": {
          "base_uri": "https://localhost:8080/"
        },
        "id": "Qlm7dJ_ax8f1",
        "outputId": "b3bba0b0-cd2e-41c2-de08-f92fea6b37e9"
      },
      "id": "Qlm7dJ_ax8f1",
      "execution_count": 25,
      "outputs": [
        {
          "output_type": "stream",
          "name": "stdout",
          "text": [
            "Downloading data from https://storage.googleapis.com/tensorflow/tf-keras-datasets/reuters.npz\n",
            "2113536/2110848 [==============================] - 0s 0us/step\n",
            "2121728/2110848 [==============================] - 0s 0us/step\n"
          ]
        }
      ]
    },
    {
      "cell_type": "code",
      "source": [
        "train_data[:2] # Array of lists where each list has integers/indexes of words"
      ],
      "metadata": {
        "colab": {
          "base_uri": "https://localhost:8080/"
        },
        "id": "BHOWANVtypH3",
        "outputId": "21702463-9b6c-420a-bbb2-ac51630e7f71"
      },
      "id": "BHOWANVtypH3",
      "execution_count": 26,
      "outputs": [
        {
          "output_type": "execute_result",
          "data": {
            "text/plain": [
              "array([list([1, 2, 2, 8, 43, 10, 447, 5, 25, 207, 270, 5, 3095, 111, 16, 369, 186, 90, 67, 7, 89, 5, 19, 102, 6, 19, 124, 15, 90, 67, 84, 22, 482, 26, 7, 48, 4, 49, 8, 864, 39, 209, 154, 6, 151, 6, 83, 11, 15, 22, 155, 11, 15, 7, 48, 9, 4579, 1005, 504, 6, 258, 6, 272, 11, 15, 22, 134, 44, 11, 15, 16, 8, 197, 1245, 90, 67, 52, 29, 209, 30, 32, 132, 6, 109, 15, 17, 12]),\n",
              "       list([1, 3267, 699, 3434, 2295, 56, 2, 7511, 9, 56, 3906, 1073, 81, 5, 1198, 57, 366, 737, 132, 20, 4093, 7, 2, 49, 2295, 2, 1037, 3267, 699, 3434, 8, 7, 10, 241, 16, 855, 129, 231, 783, 5, 4, 587, 2295, 2, 2, 775, 7, 48, 34, 191, 44, 35, 1795, 505, 17, 12])],\n",
              "      dtype=object)"
            ]
          },
          "metadata": {},
          "execution_count": 26
        }
      ]
    },
    {
      "cell_type": "code",
      "source": [
        "# Decoding back to text\n",
        "word_index = reuters.get_word_index()\n",
        "reverse_word_index = dict([(value, key) for (key, value) in word_index.items()])\n",
        "decoded_newswire = ''.join([reverse_word_index.get(i - 3, '?') for i in train_data[0]])"
      ],
      "metadata": {
        "colab": {
          "base_uri": "https://localhost:8080/"
        },
        "id": "IFi27FB1yspZ",
        "outputId": "513f9abe-dc4e-40bc-b99c-56abf09604eb"
      },
      "id": "IFi27FB1yspZ",
      "execution_count": 27,
      "outputs": [
        {
          "output_type": "stream",
          "name": "stdout",
          "text": [
            "Downloading data from https://storage.googleapis.com/tensorflow/tf-keras-datasets/reuters_word_index.json\n",
            "557056/550378 [==============================] - 0s 0us/step\n",
            "565248/550378 [==============================] - 0s 0us/step\n"
          ]
        }
      ]
    },
    {
      "cell_type": "code",
      "source": [
        "# preparing the data using the same function defined early\n",
        "print(\"Training data shape before preparing: \", train_data.shape)\n",
        "print(\"Testing data shape before preparing: \", test_data.shape)\n",
        "\n",
        "x_train = vectorize_sequences(train_data)\n",
        "x_test = vectorize_sequences(test_data)\n",
        "\n",
        "print(\"Training data shape after preparing: \", x_train.shape)\n",
        "print(\"Testing data shape after preparing: \", x_test.shape)"
      ],
      "metadata": {
        "colab": {
          "base_uri": "https://localhost:8080/"
        },
        "id": "MJdUuHxo2hHO",
        "outputId": "3fbdde6f-f726-4ee1-8426-0cfbdb13972e"
      },
      "id": "MJdUuHxo2hHO",
      "execution_count": 38,
      "outputs": [
        {
          "output_type": "stream",
          "name": "stdout",
          "text": [
            "Training data shape before preparing:  (8982,)\n",
            "Testing data shape before preparing:  (2246,)\n",
            "Training data shape after preparing:  (8982, 10000)\n",
            "Testing data shape after preparing:  (2246, 10000)\n"
          ]
        }
      ]
    },
    {
      "cell_type": "code",
      "source": [
        "# Showing the two first entries (rows) \n",
        "x_train[0:2]"
      ],
      "metadata": {
        "colab": {
          "base_uri": "https://localhost:8080/"
        },
        "id": "vN0p3Hlt3xeV",
        "outputId": "75f46533-17b8-4eb5-9a00-9c2c05b7df19"
      },
      "id": "vN0p3Hlt3xeV",
      "execution_count": 40,
      "outputs": [
        {
          "output_type": "execute_result",
          "data": {
            "text/plain": [
              "array([[0., 1., 1., ..., 0., 0., 0.],\n",
              "       [0., 1., 1., ..., 0., 0., 0.]])"
            ]
          },
          "metadata": {},
          "execution_count": 40
        }
      ]
    },
    {
      "cell_type": "code",
      "source": [
        "# The function commented below is just a example how labels could be encoded using\n",
        "# a not built-in function\n",
        "\n",
        "# def to_one_hot(labels, dimension = 46):\n",
        "# \tresults = np.zeros((len(labels), dimension))\n",
        "# \tfor i, label in enumerate(labels):\n",
        "# \t\tresults[i, label] = 1.\n",
        "# \treturn results\n",
        "\t\n",
        "# one_hot_train_labels = to_one_hot(train_labels)\n",
        "# one_hot_test_labels = to_one_hot(test_labels)\n",
        "\n",
        "print(\"Training labels: \", np.unique(train_labels)) # 46-classes\n",
        "print(\"Test labels: \", np.unique(test_labels)) # 46-classes\n",
        "\n",
        "from keras.utils.np_utils import to_categorical\n",
        "\n",
        "one_hot_train_labels = to_categorical(train_labels)\n",
        "one_hot_test_labels = to_categorical(test_labels)"
      ],
      "metadata": {
        "colab": {
          "base_uri": "https://localhost:8080/"
        },
        "id": "qjPsOawc4bhB",
        "outputId": "fd47c0a9-a6b2-4837-c2b0-5a8f694bc520"
      },
      "id": "qjPsOawc4bhB",
      "execution_count": 47,
      "outputs": [
        {
          "output_type": "stream",
          "name": "stdout",
          "text": [
            "Training labels:  [ 0  1  2  3  4  5  6  7  8  9 10 11 12 13 14 15 16 17 18 19 20 21 22 23\n",
            " 24 25 26 27 28 29 30 31 32 33 34 35 36 37 38 39 40 41 42 43 44 45]\n",
            "Test labels:  [ 0  1  2  3  4  5  6  7  8  9 10 11 12 13 14 15 16 17 18 19 20 21 22 23\n",
            " 24 25 26 27 28 29 30 31 32 33 34 35 36 37 38 39 40 41 42 43 44 45]\n"
          ]
        }
      ]
    },
    {
      "cell_type": "code",
      "source": [
        "one_hot_train_labels[:2]"
      ],
      "metadata": {
        "colab": {
          "base_uri": "https://localhost:8080/"
        },
        "id": "BVRPdOic68MZ",
        "outputId": "bc101509-4ed6-4cdd-c2f6-345847e0855e"
      },
      "id": "BVRPdOic68MZ",
      "execution_count": 48,
      "outputs": [
        {
          "output_type": "execute_result",
          "data": {
            "text/plain": [
              "array([[0., 0., 0., 1., 0., 0., 0., 0., 0., 0., 0., 0., 0., 0., 0., 0.,\n",
              "        0., 0., 0., 0., 0., 0., 0., 0., 0., 0., 0., 0., 0., 0., 0., 0.,\n",
              "        0., 0., 0., 0., 0., 0., 0., 0., 0., 0., 0., 0., 0., 0.],\n",
              "       [0., 0., 0., 0., 1., 0., 0., 0., 0., 0., 0., 0., 0., 0., 0., 0.,\n",
              "        0., 0., 0., 0., 0., 0., 0., 0., 0., 0., 0., 0., 0., 0., 0., 0.,\n",
              "        0., 0., 0., 0., 0., 0., 0., 0., 0., 0., 0., 0., 0., 0.]],\n",
              "      dtype=float32)"
            ]
          },
          "metadata": {},
          "execution_count": 48
        }
      ]
    },
    {
      "cell_type": "code",
      "source": [
        "model = models.Sequential()\n",
        "model.add(layers.Dense(64, activation = 'relu', input_shape = (x_train.shape[1],)))\n",
        "model.add(layers.Dense(64, activation = 'relu'))\n",
        "model.add(layers.Dense(46, activation = 'softmax'))\n",
        "\n",
        "model.compile(optimizer='rmsprop',\n",
        "\t\t\t  loss='categorical_crossentropy',\n",
        "\t\t\t  metrics=['accuracy'])"
      ],
      "metadata": {
        "id": "CUYNVhPR7BoO"
      },
      "id": "CUYNVhPR7BoO",
      "execution_count": 49,
      "outputs": []
    },
    {
      "cell_type": "code",
      "source": [
        "# Setting apart some data to validate\n",
        "x_valid = x_train[:1000]\n",
        "y_valid = one_hot_train_labels[:1000]\n",
        "\n",
        "partial_x_train = x_train[1000:]\n",
        "partial_y_train = one_hot_train_labels[1000:]"
      ],
      "metadata": {
        "id": "M9cXw5gn85V_"
      },
      "id": "M9cXw5gn85V_",
      "execution_count": 50,
      "outputs": []
    },
    {
      "cell_type": "code",
      "source": [
        "# Training for 20 epochs\n",
        "history = model.fit(partial_x_train,\n",
        "                    partial_y_train,\n",
        "                    epochs = 20,\n",
        "                    batch_size = 512,\n",
        "                    validation_data = (x_valid, y_valid) )"
      ],
      "metadata": {
        "colab": {
          "base_uri": "https://localhost:8080/"
        },
        "id": "1WiJryLY9YtY",
        "outputId": "5713fb36-2118-4572-cb1f-166ebfa4cc69"
      },
      "id": "1WiJryLY9YtY",
      "execution_count": 51,
      "outputs": [
        {
          "output_type": "stream",
          "name": "stdout",
          "text": [
            "Epoch 1/20\n",
            "16/16 [==============================] - 2s 70ms/step - loss: 2.5114 - accuracy: 0.5520 - val_loss: 1.6770 - val_accuracy: 0.6560\n",
            "Epoch 2/20\n",
            "16/16 [==============================] - 1s 55ms/step - loss: 1.3811 - accuracy: 0.7174 - val_loss: 1.2762 - val_accuracy: 0.7350\n",
            "Epoch 3/20\n",
            "16/16 [==============================] - 1s 52ms/step - loss: 1.0302 - accuracy: 0.7849 - val_loss: 1.1509 - val_accuracy: 0.7490\n",
            "Epoch 4/20\n",
            "16/16 [==============================] - 1s 54ms/step - loss: 0.8138 - accuracy: 0.8247 - val_loss: 1.0213 - val_accuracy: 0.7870\n",
            "Epoch 5/20\n",
            "16/16 [==============================] - 1s 62ms/step - loss: 0.6469 - accuracy: 0.8657 - val_loss: 0.9471 - val_accuracy: 0.8000\n",
            "Epoch 6/20\n",
            "16/16 [==============================] - 1s 67ms/step - loss: 0.5168 - accuracy: 0.8925 - val_loss: 0.9223 - val_accuracy: 0.8040\n",
            "Epoch 7/20\n",
            "16/16 [==============================] - 1s 65ms/step - loss: 0.4162 - accuracy: 0.9146 - val_loss: 0.9185 - val_accuracy: 0.8090\n",
            "Epoch 8/20\n",
            "16/16 [==============================] - 1s 57ms/step - loss: 0.3407 - accuracy: 0.9283 - val_loss: 0.9192 - val_accuracy: 0.8050\n",
            "Epoch 9/20\n",
            "16/16 [==============================] - 1s 56ms/step - loss: 0.2837 - accuracy: 0.9381 - val_loss: 0.9109 - val_accuracy: 0.8120\n",
            "Epoch 10/20\n",
            "16/16 [==============================] - 1s 52ms/step - loss: 0.2399 - accuracy: 0.9449 - val_loss: 0.8927 - val_accuracy: 0.8210\n",
            "Epoch 11/20\n",
            "16/16 [==============================] - 1s 54ms/step - loss: 0.2069 - accuracy: 0.9488 - val_loss: 0.9947 - val_accuracy: 0.7930\n",
            "Epoch 12/20\n",
            "16/16 [==============================] - 1s 62ms/step - loss: 0.1869 - accuracy: 0.9506 - val_loss: 0.9304 - val_accuracy: 0.8160\n",
            "Epoch 13/20\n",
            "16/16 [==============================] - 1s 52ms/step - loss: 0.1643 - accuracy: 0.9541 - val_loss: 0.9484 - val_accuracy: 0.8230\n",
            "Epoch 14/20\n",
            "16/16 [==============================] - 1s 52ms/step - loss: 0.1540 - accuracy: 0.9533 - val_loss: 0.9862 - val_accuracy: 0.8090\n",
            "Epoch 15/20\n",
            "16/16 [==============================] - 1s 53ms/step - loss: 0.1384 - accuracy: 0.9564 - val_loss: 0.9959 - val_accuracy: 0.8160\n",
            "Epoch 16/20\n",
            "16/16 [==============================] - 1s 52ms/step - loss: 0.1359 - accuracy: 0.9535 - val_loss: 1.1006 - val_accuracy: 0.7910\n",
            "Epoch 17/20\n",
            "16/16 [==============================] - 1s 53ms/step - loss: 0.1240 - accuracy: 0.9573 - val_loss: 1.0456 - val_accuracy: 0.8000\n",
            "Epoch 18/20\n",
            "16/16 [==============================] - 1s 52ms/step - loss: 0.1215 - accuracy: 0.9579 - val_loss: 1.0448 - val_accuracy: 0.8090\n",
            "Epoch 19/20\n",
            "16/16 [==============================] - 1s 50ms/step - loss: 0.1144 - accuracy: 0.9578 - val_loss: 1.0733 - val_accuracy: 0.8080\n",
            "Epoch 20/20\n",
            "16/16 [==============================] - 1s 51ms/step - loss: 0.1116 - accuracy: 0.9567 - val_loss: 1.0731 - val_accuracy: 0.8060\n"
          ]
        }
      ]
    },
    {
      "cell_type": "code",
      "source": [
        "# pltting\n",
        "\n",
        "loss = history.history['loss']\n",
        "val_loss = history.history['val_loss']\n",
        "\n",
        "epochs = range(1, len(loss) + 1)\n",
        "\n",
        "plt.plot(epochs, loss, 'bo', label='Training loss')\n",
        "plt.plot(epochs, val_loss, 'b', label='Validation loss')\n",
        "plt.title('Training and validation loss')\n",
        "plt.xlabel('Epochs')\n",
        "plt.ylabel('Loss')\n",
        "plt.legend()\n",
        "plt.show()\n"
      ],
      "metadata": {
        "colab": {
          "base_uri": "https://localhost:8080/",
          "height": 295
        },
        "id": "7vyltGFF-CX8",
        "outputId": "9f9c4c2f-8d3c-478b-c613-6669445a61fd"
      },
      "id": "7vyltGFF-CX8",
      "execution_count": 52,
      "outputs": [
        {
          "output_type": "display_data",
          "data": {
            "text/plain": [
              "<Figure size 432x288 with 1 Axes>"
            ],
            "image/png": "[encoded data removed]"
          },
          "metadata": {
            "needs_background": "light"
          }
        }
      ]
    },
    {
      "cell_type": "code",
      "source": [
        "plt.clf()\n",
        "\n",
        "acc = history.history['accuracy']\n",
        "val_acc = history.history['val_accuracy']\n",
        "\n",
        "plt.plot(epochs, acc, 'bo', label='Training acc')\n",
        "plt.plot(epochs, val_acc, 'b', label='Validation acc')\n",
        "plt.title('Training and validation accuracy')\n",
        "plt.xlabel('Epochs')\n",
        "plt.ylabel('Loss')\n",
        "plt.legend()\n",
        "plt.show()"
      ],
      "metadata": {
        "colab": {
          "base_uri": "https://localhost:8080/",
          "height": 295
        },
        "id": "huwVWajf-aLD",
        "outputId": "94498802-3b16-4432-ac28-a8fd2e1d131c"
      },
      "id": "huwVWajf-aLD",
      "execution_count": 54,
      "outputs": [
        {
          "output_type": "display_data",
          "data": {
            "text/plain": [
              "<Figure size 432x288 with 1 Axes>"
            ],
            "image/png": "[encoded data removed]"
          },
          "metadata": {
            "needs_background": "light"
          }
        }
      ]
    },
    {
      "cell_type": "code",
      "source": [
        "# The network starts to overfitting after 10 epochs, so let's construct a new from scratch and traind until 10 epochs\n",
        "model = models.Sequential()\n",
        "model.add(layers.Dense(64, activation = 'relu', input_shape = (x_train.shape[1],)))\n",
        "model.add(layers.Dense(64, activation = 'relu'))\n",
        "model.add(layers.Dense(46, activation = 'softmax'))\n",
        "\n",
        "model.compile(optimizer='rmsprop',\n",
        "\t\t\t  loss='categorical_crossentropy',\n",
        "\t\t\t  metrics=['accuracy'])\n",
        "\n",
        "model.fit(partial_x_train,\n",
        "          partial_y_train,\n",
        "          epochs = 10,\n",
        "          batch_size = 512,\n",
        "          validation_data = (x_valid, y_valid) )"
      ],
      "metadata": {
        "colab": {
          "base_uri": "https://localhost:8080/"
        },
        "id": "DHJE0fUY-2_r",
        "outputId": "88b89bdf-b6f6-4f0d-af73-a7169c3aa683"
      },
      "id": "DHJE0fUY-2_r",
      "execution_count": 57,
      "outputs": [
        {
          "output_type": "stream",
          "name": "stdout",
          "text": [
            "Epoch 1/10\n",
            "16/16 [==============================] - 2s 73ms/step - loss: 2.5136 - accuracy: 0.5172 - val_loss: 1.6929 - val_accuracy: 0.6270\n",
            "Epoch 2/10\n",
            "16/16 [==============================] - 1s 54ms/step - loss: 1.4331 - accuracy: 0.6942 - val_loss: 1.3178 - val_accuracy: 0.6970\n",
            "Epoch 3/10\n",
            "16/16 [==============================] - 1s 49ms/step - loss: 1.0770 - accuracy: 0.7677 - val_loss: 1.1400 - val_accuracy: 0.7680\n",
            "Epoch 4/10\n",
            "16/16 [==============================] - 1s 49ms/step - loss: 0.8489 - accuracy: 0.8211 - val_loss: 1.0649 - val_accuracy: 0.7600\n",
            "Epoch 5/10\n",
            "16/16 [==============================] - 1s 54ms/step - loss: 0.6737 - accuracy: 0.8572 - val_loss: 0.9730 - val_accuracy: 0.7970\n",
            "Epoch 6/10\n",
            "16/16 [==============================] - 1s 52ms/step - loss: 0.5372 - accuracy: 0.8891 - val_loss: 0.9282 - val_accuracy: 0.8110\n",
            "Epoch 7/10\n",
            "16/16 [==============================] - 1s 53ms/step - loss: 0.4323 - accuracy: 0.9100 - val_loss: 0.9452 - val_accuracy: 0.8030\n",
            "Epoch 8/10\n",
            "16/16 [==============================] - 1s 51ms/step - loss: 0.3468 - accuracy: 0.9273 - val_loss: 0.9176 - val_accuracy: 0.8020\n",
            "Epoch 9/10\n",
            "16/16 [==============================] - 1s 54ms/step - loss: 0.2863 - accuracy: 0.9370 - val_loss: 0.9361 - val_accuracy: 0.8060\n",
            "Epoch 10/10\n",
            "16/16 [==============================] - 1s 51ms/step - loss: 0.2436 - accuracy: 0.9444 - val_loss: 0.9133 - val_accuracy: 0.8280\n"
          ]
        },
        {
          "output_type": "execute_result",
          "data": {
            "text/plain": [
              "<keras.callbacks.History at 0x7f0c387a9610>"
            ]
          },
          "metadata": {},
          "execution_count": 57
        }
      ]
    },
    {
      "cell_type": "code",
      "source": [
        "results = model.evaluate(x_test, one_hot_test_labels)"
      ],
      "metadata": {
        "colab": {
          "base_uri": "https://localhost:8080/"
        },
        "id": "xWfrCehtBA1f",
        "outputId": "585a7a27-ef7c-417d-c111-8f43228b4b16"
      },
      "id": "xWfrCehtBA1f",
      "execution_count": 58,
      "outputs": [
        {
          "output_type": "stream",
          "name": "stdout",
          "text": [
            "71/71 [==============================] - 0s 6ms/step - loss: 0.9893 - accuracy: 0.7881\n"
          ]
        }
      ]
    },
    {
      "cell_type": "code",
      "source": [
        "# generating predictions\n",
        "predictions = model.predict(x_test)"
      ],
      "metadata": {
        "id": "Z-LvUtqNB6yb"
      },
      "id": "Z-LvUtqNB6yb",
      "execution_count": 59,
      "outputs": []
    },
    {
      "cell_type": "code",
      "source": [
        "predictions.shape"
      ],
      "metadata": {
        "colab": {
          "base_uri": "https://localhost:8080/"
        },
        "id": "5IfuYztjCc3Z",
        "outputId": "49a4e068-02d5-4405-c0f7-8f726821da13"
      },
      "id": "5IfuYztjCc3Z",
      "execution_count": 65,
      "outputs": [
        {
          "output_type": "execute_result",
          "data": {
            "text/plain": [
              "(2246, 46)"
            ]
          },
          "metadata": {},
          "execution_count": 65
        }
      ]
    },
    {
      "cell_type": "code",
      "source": [
        "# The class with the highest probability\n",
        "np.argmax(predictions[0])"
      ],
      "metadata": {
        "colab": {
          "base_uri": "https://localhost:8080/"
        },
        "id": "DjKbwWNpC4YN",
        "outputId": "e54e6f03-23ed-47cb-fa0f-3b9c0a8bad35"
      },
      "id": "DjKbwWNpC4YN",
      "execution_count": 63,
      "outputs": [
        {
          "output_type": "execute_result",
          "data": {
            "text/plain": [
              "3"
            ]
          },
          "metadata": {},
          "execution_count": 63
        }
      ]
    },
    {
      "cell_type": "code",
      "source": [
        "# Original class\n",
        "one_hot_test_labels[0]"
      ],
      "metadata": {
        "colab": {
          "base_uri": "https://localhost:8080/"
        },
        "id": "NrGm3FWnDjv5",
        "outputId": "14ba4ee8-54a4-4a67-d274-354c887a374d"
      },
      "id": "NrGm3FWnDjv5",
      "execution_count": 66,
      "outputs": [
        {
          "output_type": "execute_result",
          "data": {
            "text/plain": [
              "array([0., 0., 0., 1., 0., 0., 0., 0., 0., 0., 0., 0., 0., 0., 0., 0., 0.,\n",
              "       0., 0., 0., 0., 0., 0., 0., 0., 0., 0., 0., 0., 0., 0., 0., 0., 0.,\n",
              "       0., 0., 0., 0., 0., 0., 0., 0., 0., 0., 0., 0.], dtype=float32)"
            ]
          },
          "metadata": {},
          "execution_count": 66
        }
      ]
    },
    {
      "cell_type": "markdown",
      "source": [
        "#### Wrapping up \n",
        "\n",
        "* If you’re trying to classify data points among N classes, your network should end with a Dense layer of size N.\n",
        "\n",
        "* In a single-label, multiclass classification problem, your network should end with a `softmax` activation so that it will output a probability distribution over the N output classes.\n",
        "\n",
        "* Categorical crossentropy (`categorical_crossentropy`) is almost always the loss function you should use for such problems. It minimizes the distance between the probability distributions output by the network and the true distribution of the targets.\n",
        "\n",
        "* There are two ways to handle labels in multiclass classification:\n",
        " 1. Encoding the labels via categorical encoding (also known as one-hot encoding) and using `categorical_crossentropy` as a loss function;\n",
        " 2. Encoding the labels as integers and using the `sparse_categorical_crossentropy` loss function;\n",
        "\n",
        "* If you need to classify data into a large number of categories, you should avoid creating information bottlenecks in your network due to intermediate layers that are too small."
      ],
      "metadata": {
        "id": "ePq1kr7bEKyL"
      },
      "id": "ePq1kr7bEKyL"
    }
  ],
  "metadata": {
    "kernelspec": {
      "display_name": "Python 3 (ipykernel)",
      "language": "python",
      "name": "python3"
    },
    "language_info": {
      "codemirror_mode": {
        "name": "ipython",
        "version": 3
      },
      "file_extension": ".py",
      "mimetype": "text/x-python",
      "name": "python",
      "nbconvert_exporter": "python",
      "pygments_lexer": "ipython3",
      "version": "3.9.12"
    },
    "toc-autonumbering": false,
    "toc-showcode": true,
    "toc-showmarkdowntxt": false,
    "colab": {
      "name": "Classification-Examples-Deep-Learning-With-Python.ipynb",
      "provenance": []
    }
  },
  "nbformat": 4,
  "nbformat_minor": 5
}